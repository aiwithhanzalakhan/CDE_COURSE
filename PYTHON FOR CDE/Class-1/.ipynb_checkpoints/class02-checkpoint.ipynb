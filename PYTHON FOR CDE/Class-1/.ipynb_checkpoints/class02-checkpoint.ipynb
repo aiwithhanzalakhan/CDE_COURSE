{
 "cells": [
  {
   "cell_type": "code",
   "execution_count": 2,
   "id": "a5538ee1-537d-426d-897d-2cfead1cb718",
   "metadata": {},
   "outputs": [
    {
     "name": "stdin",
     "output_type": "stream",
     "text": [
      "Enter Your Marks:  56\n"
     ]
    },
    {
     "name": "stdout",
     "output_type": "stream",
     "text": [
      "C\n",
      "56\n"
     ]
    }
   ],
   "source": [
    "number = int(input(\"Enter Your Marks: \"))\n",
    "\n",
    "if number >=0 and number < 25:\n",
    "    print(\"F\")\n",
    "\n",
    "elif number >= 25 and number < 45:\n",
    "    print(\"E\")\n",
    "\n",
    "elif number >= 45 and number < 50:\n",
    "    print(\"D\")\n",
    "\n",
    "elif number >= 50 and number < 60:\n",
    "    print(\"C\")\n",
    "\n",
    "elif number >= 60 and number < 80:\n",
    "    print(\"B\")\n",
    "\n",
    "elif number >=80 and number <=100:\n",
    "    print(\"A\")\n",
    "\n",
    "else:\n",
    "    print('Invalid Input')\n",
    "\n",
    "\n",
    "print(number)"
   ]
  },
  {
   "cell_type": "code",
   "execution_count": 6,
   "id": "aaf6de22-2c5a-48ee-acf0-cda4a547a8f7",
   "metadata": {},
   "outputs": [
    {
     "name": "stdin",
     "output_type": "stream",
     "text": [
      "Enter Your Gender (M/F):  Y\n",
      "Enter Your Marital Status (Y/N):  N\n",
      "Enter Your Age:  20\n"
     ]
    },
    {
     "name": "stdout",
     "output_type": "stream",
     "text": [
      "Error\n"
     ]
    }
   ],
   "source": [
    "gender = input(\"Enter Your Gender (M/F): \")\n",
    "marital_status = input(\"Enter Your Marital Status (Y/N): \");\n",
    "age = int(input(\"Enter Your Age: \"))\n",
    "\n",
    "if gender == 'F':\n",
    "    if marital_status == 'Y':\n",
    "        print(\"Aap sirf Urban Areas mein Kaam Karsakti Hain Bas\");\n",
    "elif gender == 'M':\n",
    "    if age >= 20 and age <= 40:\n",
    "        print ('You May Work Any Where');\n",
    "    elif age > 40 and age <= 60:\n",
    "        print(\"You Work Only This Urban areas\")\n",
    "else:\n",
    "    print('Error')\n",
    "    "
   ]
  },
  {
   "cell_type": "code",
   "execution_count": 7,
   "id": "795b898b-fca8-423c-a1a1-a24dce537d29",
   "metadata": {},
   "outputs": [],
   "source": [
    "countries = ['South Korea', 'Pakistan', 'Afghanistan', 'Italy']\n",
    "\n",
    "countries.append('India')"
   ]
  },
  {
   "cell_type": "code",
   "execution_count": 8,
   "id": "e414ee81-0d99-45c2-ad82-cb60442ec8b3",
   "metadata": {},
   "outputs": [
    {
     "data": {
      "text/plain": [
       "['South Korea', 'Pakistan', 'Afghanistan', 'Italy', 'India']"
      ]
     },
     "execution_count": 8,
     "metadata": {},
     "output_type": "execute_result"
    }
   ],
   "source": [
    "countries"
   ]
  },
  {
   "cell_type": "code",
   "execution_count": 9,
   "id": "af10a4f5-9226-48e8-92c6-cac815db45ea",
   "metadata": {},
   "outputs": [
    {
     "data": {
      "text/plain": [
       "['Pakistan', 'Afghanistan', 'Italy']"
      ]
     },
     "execution_count": 9,
     "metadata": {},
     "output_type": "execute_result"
    }
   ],
   "source": [
    "countries[-4:-1]"
   ]
  },
  {
   "cell_type": "code",
   "execution_count": 12,
   "id": "36b0db19-53f5-4b3e-8fda-04ae7757936e",
   "metadata": {},
   "outputs": [
    {
     "data": {
      "text/plain": [
       "['South Korea', 'Pakistan', 'Afghanistan']"
      ]
     },
     "execution_count": 12,
     "metadata": {},
     "output_type": "execute_result"
    }
   ],
   "source": [
    "countries[:-2]"
   ]
  },
  {
   "cell_type": "code",
   "execution_count": 13,
   "id": "e19aa1b3-694b-48ac-9360-5b521b0d01a1",
   "metadata": {},
   "outputs": [
    {
     "data": {
      "text/plain": [
       "['Pakistan', 'Afghanistan', 'Italy', 'India']"
      ]
     },
     "execution_count": 13,
     "metadata": {},
     "output_type": "execute_result"
    }
   ],
   "source": [
    "countries[-4:]"
   ]
  },
  {
   "cell_type": "code",
   "execution_count": null,
   "id": "7127af34-9833-4ed8-8d08-e09229e5551e",
   "metadata": {},
   "outputs": [],
   "source": []
  }
 ],
 "metadata": {
  "kernelspec": {
   "display_name": "Python 3 (ipykernel)",
   "language": "python",
   "name": "python3"
  },
  "language_info": {
   "codemirror_mode": {
    "name": "ipython",
    "version": 3
   },
   "file_extension": ".py",
   "mimetype": "text/x-python",
   "name": "python",
   "nbconvert_exporter": "python",
   "pygments_lexer": "ipython3",
   "version": "3.12.7"
  }
 },
 "nbformat": 4,
 "nbformat_minor": 5
}
