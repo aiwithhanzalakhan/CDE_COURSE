number = input("Enter Your Marks: ")

if number >=0 and number < 25:
    print("F")

elif number >= 25 and number < 45:
    print("E")

elif number >= 45 and number < 50:
    print("D")

elif number >= 50 and number < 60:
    print("C")

elif number >= 60 and number < 80:
    print("B")

elif number >=80 and number <=100:
    print("A")

else:
    print('Invalid Input')


print(number)