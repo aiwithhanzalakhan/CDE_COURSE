{
 "cells": [
  {
   "cell_type": "markdown",
   "metadata": {},
   "source": [
    "# A School Has A Grading System"
   ]
  },
  {
   "cell_type": "code",
   "execution_count": null,
   "metadata": {
    "vscode": {
     "languageId": "plaintext"
    }
   },
   "outputs": [],
   "source": [
    "number = input(\"Enter Your Marks\")\n",
    "\n",
    "if number >=0 and number < 25:\n",
    "    print(\"F\")\n",
    "\n",
    "elif number >= 25 and number < 45:\n",
    "    print(\"E\")\n",
    "\n",
    "elif number >= 45 and number < 50:\n",
    "    print(\"D\")\n",
    "\n",
    "elif number >= 50 and number < 60:\n",
    "    print(\"C\")\n",
    "\n",
    "elif number >= 60 and number < 80:\n",
    "    print(\"B\")\n",
    "\n",
    "elif number >=80 and number <=100:\n",
    "    print(\"A\")\n",
    "\n",
    "else:\n",
    "    print('Invalid Input')"
   ]
  },
  {
   "cell_type": "code",
   "execution_count": null,
   "metadata": {
    "vscode": {
     "languageId": "plaintext"
    }
   },
   "outputs": [],
   "source": [
    "number = input(\"Enter Your Marks\")\n",
    "\n",
    "if number >=0 and number < 25:\n",
    "    print(\"F\")\n",
    "\n",
    "elif number >= 25 and number < 45:\n",
    "    print(\"E\")\n",
    "\n",
    "elif number >= 45 and number < 50:\n",
    "    print(\"D\")\n",
    "\n",
    "elif number >= 50 and number < 60:\n",
    "    print(\"C\")\n",
    "\n",
    "elif number >= 60 and number < 80:\n",
    "    print(\"B\")\n",
    "\n",
    "elif number >=80 and number <=100:\n",
    "    print(\"A\")\n",
    "\n",
    "else:\n",
    "    print('Invalid Input')"
   ]
  }
 ],
 "metadata": {
  "language_info": {
   "name": "python"
  }
 },
 "nbformat": 4,
 "nbformat_minor": 2
}
